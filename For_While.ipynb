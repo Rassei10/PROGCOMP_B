{
  "nbformat": 4,
  "nbformat_minor": 0,
  "metadata": {
    "colab": {
      "name": "For_While.ipynb",
      "provenance": []
    },
    "kernelspec": {
      "name": "python3",
      "display_name": "Python 3"
    },
    "language_info": {
      "name": "python"
    }
  },
  "cells": [
    {
      "cell_type": "code",
      "execution_count": null,
      "metadata": {
        "id": "1_4C3MyZUjDZ"
      },
      "outputs": [],
      "source": [
        "#For y While\n",
        "#1\n",
        "z=0\n",
        "x=int(input(\"Ingrese un numero: \"))\n",
        "for y in range(1,x):\n",
        "  if x%y==0:\n",
        "    z=z+1\n",
        "if z==2:\n",
        "  print(\"No es primo\")\n",
        "else:\n",
        "  print(\"Es primo\")"
      ]
    },
    {
      "cell_type": "code",
      "source": [
        "#2\n",
        "x=0\n",
        "y=1\n",
        "w=0\n",
        "print(x)\n",
        "print(y)\n",
        "for z in range(1,29):\n",
        "  w=x+y\n",
        "  (x,y)=(y,x)\n",
        "  y=w\n",
        "  print(w)"
      ],
      "metadata": {
        "id": "Ilqt0hUvaAOx"
      },
      "execution_count": null,
      "outputs": []
    },
    {
      "cell_type": "code",
      "source": [
        "#3\n",
        "N=int(input(\"Escriba un número: \"))\n",
        "z=1\n",
        "for x in range (N,1,-1):\n",
        "  z=x*z\n",
        "print(f\"{N}! = {z}\")"
      ],
      "metadata": {
        "colab": {
          "base_uri": "https://localhost:8080/"
        },
        "id": "dfgcVVkhbs84",
        "outputId": "6f3848ee-21c4-4415-9d69-72e164a3b5e3"
      },
      "execution_count": 46,
      "outputs": [
        {
          "output_type": "stream",
          "name": "stdout",
          "text": [
            "Escriba un número: 5\n",
            "5! = 120\n"
          ]
        }
      ]
    },
    {
      "cell_type": "code",
      "source": [
        "#4\n",
        "for y in range(1,10):\n",
        "  N=int(input(\"Escriba un número: \"))\n",
        "  z=1\n",
        "  for x in range (N,1,-1):\n",
        "    z=x*z\n",
        "  print(f\"{N}! = {z}\")"
      ],
      "metadata": {
        "id": "hB4fhwJpc6QB"
      },
      "execution_count": null,
      "outputs": []
    },
    {
      "cell_type": "code",
      "source": [
        "#5\n",
        "n1=int(input(\"Número 1: \"))\n",
        "for x in range(1,20):\n",
        "  n2=int(input(f\"Número {x+1}: \"))\n",
        "  if n2>n1:\n",
        "    n1,n2=n2,n1\n",
        "print(f\"{n1} es el numero mayor\")\n"
      ],
      "metadata": {
        "id": "Sy7BAtPodTnA"
      },
      "execution_count": null,
      "outputs": []
    },
    {
      "cell_type": "code",
      "source": [
        "#6\n",
        "x=int(input(\"Tabla del: \"))\n",
        "print(f\"Tabla del {x}\")\n",
        "for y in range(1,11):\n",
        "  print(f\"{x}x{y}={x*y}\")"
      ],
      "metadata": {
        "id": "pIpqrU3uegU4"
      },
      "execution_count": null,
      "outputs": []
    },
    {
      "cell_type": "code",
      "source": [
        "#7\n",
        "y=100\n",
        "z=0\n",
        "for x in range(1,11):\n",
        "  z=z+y\n",
        "  print(y)\n",
        "  if x<10:\n",
        "    print(\"+\")\n",
        "  y=y-10\n",
        "print(f\"={z}\")\n"
      ],
      "metadata": {
        "id": "SN0SnLYBYCWG"
      },
      "execution_count": null,
      "outputs": []
    }
  ]
}