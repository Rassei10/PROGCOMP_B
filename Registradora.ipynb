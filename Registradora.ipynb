{
  "nbformat": 4,
  "nbformat_minor": 0,
  "metadata": {
    "colab": {
      "name": "Registradora.ipynb",
      "provenance": []
    },
    "kernelspec": {
      "name": "python3",
      "display_name": "Python 3"
    },
    "language_info": {
      "name": "python"
    }
  },
  "cells": [
    {
      "cell_type": "code",
      "execution_count": 5,
      "metadata": {
        "colab": {
          "base_uri": "https://localhost:8080/"
        },
        "id": "qWjRrk3Wtc2r",
        "outputId": "ac111f50-6049-4074-eaa4-d95a9980200b"
      },
      "outputs": [
        {
          "output_type": "stream",
          "name": "stdout",
          "text": [
            "1.Manzana \n",
            "2.Pera\n",
            "3.Uvas\n",
            "4.Limon\n",
            "5.Piña\n",
            "6.Melón\n",
            "7.Papaya\n",
            "8.Banano\n",
            "9.Tomate\n",
            "10.Cebolla\n",
            "¿Que desea ordenar?: 10\n",
            "Cantidad: 30\n",
            "Nuestra cantidad máxima es 25\n",
            "Que cantidad desea 25\n",
            "¿Otro producto?: no\n",
            "\n",
            "\n",
            "\n",
            "\n",
            "Factura\n",
            "Cebolla x25 =12500\n",
            "Total: 12500\n"
          ]
        }
      ],
      "source": [
        "from os import SCHED_RESET_ON_FORK\n",
        "p=[\"\",\"Manzana \",\"Pera    \",\"Uvas    \",\"Limón   \",\"Piña    \",\"Melón   \",\"Papaya  \",\"Banano  \",\"Tomate  \",\"Cebolla \"]\n",
        "x=[0,500,400,600,300,800,500,700,400,600,500]\n",
        "o=[0]*len(p)\n",
        "f=[0]*len(p)\n",
        "cant=[0,23,51,13,27,31,30,42,27,32,25]\n",
        "y=\"s\"\n",
        "t=0\n",
        "while y[0:1]==\"s\":\n",
        "  print(\"1.Manzana \\n2.Pera\\n3.Uvas\\n4.Limon\\n5.Piña\\n6.Melón\\n7.Papaya\\n8.Banano\\n9.Tomate\\n10.Cebolla\")\n",
        "  n=int(input(\"¿Que desea ordenar?: \"))\n",
        "  c=int(input(\"Cantidad: \"))\n",
        "  while c>cant[n]:\n",
        "    c=int(input(f\"Nuestra cantidad máxima es {cant[n]}\\nQue cantidad desea \"))\n",
        "  o[n]=c\n",
        "  y=input(\"¿Otro producto?: \")\n",
        "  y=y.lower()\n",
        "  print(\"\\n\"*3)\n",
        "f=[x*y for x,y in zip(x,o)]\n",
        "print(f\"Factura\")\n",
        "a=1\n",
        "while a<=10:\n",
        "  if o[a]>0:\n",
        "    print(f\"{p[a]}x{o[a]} ={f[a]}\")\n",
        "    t=t+f[a]\n",
        "  a=a+1\n",
        "print(\"Total: \",t)"
      ]
    }
  ]
}