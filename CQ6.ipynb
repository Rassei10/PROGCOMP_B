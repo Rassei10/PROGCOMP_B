{
  "nbformat": 4,
  "nbformat_minor": 0,
  "metadata": {
    "colab": {
      "provenance": []
    },
    "kernelspec": {
      "name": "python3",
      "display_name": "Python 3"
    },
    "language_info": {
      "name": "python"
    }
  },
  "cells": [
    {
      "cell_type": "code",
      "execution_count": 3,
      "metadata": {
        "colab": {
          "base_uri": "https://localhost:8080/"
        },
        "id": "nVdmyqrj5r4e",
        "outputId": "16de0e8f-a79c-482e-b32e-a044dc5da37a"
      },
      "outputs": [
        {
          "name": "stdout",
          "output_type": "stream",
          "text": [
            "Number: 12\n"
          ]
        },
        {
          "output_type": "execute_result",
          "data": {
            "text/plain": [
              "True"
            ]
          },
          "metadata": {},
          "execution_count": 3
        }
      ],
      "source": [
        "#False: false tiene el valor falso (numéricamente es cero)\n",
        "#True:true tiene el valor cierto (numéricamente es uno)\n",
        "a=int(input(\"Number: \"))\n",
        "b= True if a>10 else False\n",
        "b\n"
      ]
    }
  ]
}