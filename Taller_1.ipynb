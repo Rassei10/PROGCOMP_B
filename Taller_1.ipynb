{
  "nbformat": 4,
  "nbformat_minor": 0,
  "metadata": {
    "colab": {
      "name": "Taller_1.ipynb",
      "provenance": []
    },
    "kernelspec": {
      "name": "python3",
      "display_name": "Python 3"
    },
    "language_info": {
      "name": "python"
    }
  },
  "cells": [
    {
      "cell_type": "code",
      "execution_count": 26,
      "metadata": {
        "colab": {
          "base_uri": "https://localhost:8080/"
        },
        "id": "EJDey0qLqOt1",
        "outputId": "cbf59229-3b1e-4836-b795-930221081f47"
      },
      "outputs": [
        {
          "output_type": "stream",
          "name": "stdout",
          "text": [
            "Número 1: 5\n",
            "Número 2: 3\n",
            "1.6666666666666667\n",
            "La división no es exacta\n",
            "el residuo es 0.6666666666666667\n"
          ]
        }
      ],
      "source": [
        "#Ejercicio 1\n",
        "num1=int(input(\"Número 1: \"))\n",
        "num2=int(input(\"Número 2: \"))\n",
        "while (num2==0):\n",
        "  print(\"MATH ERROR, no se puede dividir en 0\")\n",
        "  num2=int(input(\"Número 2: \"))\n",
        "a=num1/num2\n",
        "b=a%1\n",
        "print(a)\n",
        "if b>0:\n",
        "  print(\"La división no es exacta\")\n",
        "  print(f\"El residuo es {b}\")\n",
        "else:\n",
        "  print(\"La división es exacta\")"
      ]
    },
    {
      "cell_type": "code",
      "source": [
        "#Ejercicio 2\n",
        "num1=int(input(\"Número 1: \"))\n",
        "num2=int(input(\"Número 2: \"))\n",
        "if num1>num2:\n",
        "  x=num1\n",
        "  z=num2\n",
        "else:\n",
        "  x=num2\n",
        "  z=num1\n",
        "a=x%z\n",
        "if a==0:\n",
        "  print(f\"{x} es múltiplo de {z}\")\n"
      ],
      "metadata": {
        "id": "-hk6iHkPq3Bs",
        "colab": {
          "base_uri": "https://localhost:8080/"
        },
        "outputId": "811e8db8-82a5-4d47-9b6b-6836539d70b2"
      },
      "execution_count": 29,
      "outputs": [
        {
          "output_type": "stream",
          "name": "stdout",
          "text": [
            "Número 1: 2\n",
            "Número 2: 86\n",
            "86 es múltiplo de 2\n"
          ]
        }
      ]
    },
    {
      "cell_type": "code",
      "source": [
        "#Ejercicio 3\n",
        "h1=int(input(\"Hermano 1: \"))\n",
        "h2=int(input(\"Hermano 2: \"))\n",
        "h3=int(input(\"Hermano 3: \"))\n",
        "if h1>=h2 and h1>=h3:\n",
        "  e1=h1\n",
        "  e2=h2\n",
        "  e3=h3\n",
        "elif h2>=h1 and h2>=h3:\n",
        "  e1=h2 \n",
        "  e2=h1\n",
        "  e3=h3\n",
        "elif h3>=h1 and h3>=h2:\n",
        "  e1=h3\n",
        "  e2=h1\n",
        "  e3=h2\n",
        "if e3>e2:\n",
        "  e2, e3 = e3, e2\n",
        "if e1==e2 and e1==e3:\n",
        "  print(f\"Todos tienen la misma edad: {e1}\")\n",
        "elif e1==e2 and e1>e3:\n",
        "  print(f\"Los dos hermanos mayores tienen {e1} y el menor tiene {e3} \")\n",
        "elif e2==e3 and e1>e2:\n",
        "  print(f\"El hermano mayor tiene {e1} y los dos menores tienen {e2}\")\n",
        "else:\n",
        "  print(f\"El hermano mayor tiene {e1}, el del medio tiene {e2} y el menor tiene {e3} \")"
      ],
      "metadata": {
        "colab": {
          "base_uri": "https://localhost:8080/"
        },
        "id": "eCOvAtoMzhjb",
        "outputId": "868f9c42-08d5-42bc-874a-ea8aeeb85e8e"
      },
      "execution_count": 40,
      "outputs": [
        {
          "output_type": "stream",
          "name": "stdout",
          "text": [
            "Hermano 1: 2\n",
            "Hermano 2: 2\n",
            "Hermano 3: 1\n",
            "Los dos hermanos mayores tienen 2 y el menor tiene 1 \n"
          ]
        }
      ]
    },
    {
      "cell_type": "code",
      "source": [
        "#Ejercicio 15\n",
        "num=int(input(\"número\"))\n",
        "if num<0:\n",
        "  num1=num*-1\n",
        "print(f\"El valor absoluto de {num} es {num1}\")\n",
        "\n"
      ],
      "metadata": {
        "colab": {
          "base_uri": "https://localhost:8080/"
        },
        "id": "SvHCJJhFBCz1",
        "outputId": "43f0fa38-080e-48f8-8ad9-198f41ef44d3"
      },
      "execution_count": 54,
      "outputs": [
        {
          "output_type": "stream",
          "name": "stdout",
          "text": [
            "número-5\n",
            "El valor absoluto de -5 es 5\n"
          ]
        }
      ]
    },
    {
      "cell_type": "code",
      "source": [
        "#Ejercicio 13\n",
        "print(\"Escoja medida:\")\n",
        "print(\"cm:1\")\n",
        "print(\"m:2\")\n",
        "print(\"km:3\")\n",
        "m=int(input())\n",
        "if m==1:\n",
        "  print(\"Convertir a metros:1\")\n",
        "  print(\"Convertir a kilometros:2\")\n",
        "elif m==2:\n",
        "  print(\"Convertir a centimetros:1\")\n",
        "  print(\"Convertir a kilometros:2\")\n",
        "elif m==3:\n",
        "  print(\"Convertir a centimetros:1\")\n",
        "  print(\"Convertir a metros:2\")\n",
        "n=int(input())\n",
        "a=int(input(\"Número\"))\n",
        "if m==1:\n",
        "  if n==1:\n",
        "    print(a/(10**2))\n",
        "  else:\n",
        "    print(a/(10**5))\n",
        "elif m==3:\n",
        "  if n==1:\n",
        "    print(a*(10**5))\n",
        "  else:\n",
        "    print(a*(10**3))\n",
        "elif m==2:\n",
        "  if n==1:\n",
        "    print(a*(10**2))\n",
        "  else:\n",
        "    print(a/(10**3))\n",
        "\n",
        "\n"
      ],
      "metadata": {
        "colab": {
          "base_uri": "https://localhost:8080/"
        },
        "id": "s7PKJlUeDjmB",
        "outputId": "80b745f8-4af9-4efc-ee98-a0c62b167237"
      },
      "execution_count": 64,
      "outputs": [
        {
          "output_type": "stream",
          "name": "stdout",
          "text": [
            "Escoja medida:\n",
            "cm:1\n",
            "m:2\n",
            "km:3\n",
            "1\n",
            "Convertir a metros:1\n",
            "Convertir a kilometros:2\n",
            "1\n",
            "Número100\n",
            "1.0\n"
          ]
        }
      ]
    },
    {
      "cell_type": "code",
      "source": [
        ""
      ],
      "metadata": {
        "id": "nhg5nbR-I9Mi"
      },
      "execution_count": null,
      "outputs": []
    }
  ]
}