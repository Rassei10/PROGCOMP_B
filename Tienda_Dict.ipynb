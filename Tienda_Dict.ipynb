{
  "nbformat": 4,
  "nbformat_minor": 0,
  "metadata": {
    "colab": {
      "provenance": []
    },
    "kernelspec": {
      "name": "python3",
      "display_name": "Python 3"
    },
    "language_info": {
      "name": "python"
    }
  },
  "cells": [
    {
      "cell_type": "code",
      "execution_count": 70,
      "metadata": {
        "colab": {
          "base_uri": "https://localhost:8080/"
        },
        "id": "26GPqA_E9DkG",
        "outputId": "42137b68-3733-43e9-f236-aa15508d4893"
      },
      "outputs": [
        {
          "output_type": "stream",
          "name": "stdout",
          "text": [
            "\n",
            "          Productos  Precio\n",
            "0          Combo 1   20000\n",
            "1          Combo 2   25000\n",
            "2          Combo 3   18000\n",
            "3          Combo 4   24500\n",
            "4            Papas    3000\n",
            "5  Jugos naturales    7000\n",
            "6          Cerveza    3500\n",
            "7             Agua    4000\n",
            "8          Gaseosa    2500\n",
            "\n",
            "Escriba lo que quiere ordenar: Combo 2\n",
            "¿Que cantidad?: 6\n",
            "¿Desea ordenar algo mas? Si o No: No\n",
            "Factura\n",
            "          Productos  Precio  Cantidad\n",
            "0          Combo 1   20000         0\n",
            "1          Combo 2   25000         6\n",
            "2          Combo 3   18000         0\n",
            "3          Combo 4   24500         0\n",
            "4            Papas    3000         0\n",
            "5  Jugos naturales    7000         0\n",
            "6          Cerveza    3500         0\n",
            "7             Agua    4000         0\n",
            "8          Gaseosa    2500         0\n",
            "9            Total  150000         0\n",
            "¿Hay mas clientes? Si o No: Si\n",
            "\n",
            "          Productos  Precio\n",
            "0          Combo 1   20000\n",
            "1          Combo 2   25000\n",
            "2          Combo 3   18000\n",
            "3          Combo 4   24500\n",
            "4            Papas    3000\n",
            "5  Jugos naturales    7000\n",
            "6          Cerveza    3500\n",
            "7             Agua    4000\n",
            "8          Gaseosa    2500\n",
            "\n",
            "Escriba lo que quiere ordenar: Cerveza\n",
            "¿Que cantidad?: 8\n",
            "¿Desea ordenar algo mas? Si o No: No\n",
            "Factura\n",
            "          Productos  Precio  Cantidad\n",
            "0          Combo 1   20000         0\n",
            "1          Combo 2   25000         0\n",
            "2          Combo 3   18000         0\n",
            "3          Combo 4   24500         0\n",
            "4            Papas    3000         0\n",
            "5  Jugos naturales    7000         0\n",
            "6          Cerveza    3500         8\n",
            "7             Agua    4000         0\n",
            "8          Gaseosa    2500         0\n",
            "9            Total   28000         0\n",
            "¿Hay mas clientes? Si o No: Si\n",
            "\n",
            "          Productos  Precio\n",
            "0          Combo 1   20000\n",
            "1          Combo 2   25000\n",
            "2          Combo 3   18000\n",
            "3          Combo 4   24500\n",
            "4            Papas    3000\n",
            "5  Jugos naturales    7000\n",
            "6          Cerveza    3500\n",
            "7             Agua    4000\n",
            "8          Gaseosa    2500\n",
            "\n",
            "Escriba lo que quiere ordenar: Papas\n",
            "¿Que cantidad?: 6\n",
            "¿Desea ordenar algo mas? Si o No: No\n",
            "Factura\n",
            "          Productos  Precio  Cantidad\n",
            "0          Combo 1   20000         0\n",
            "1          Combo 2   25000         0\n",
            "2          Combo 3   18000         0\n",
            "3          Combo 4   24500         0\n",
            "4            Papas    3000         6\n",
            "5  Jugos naturales    7000         0\n",
            "6          Cerveza    3500         0\n",
            "7             Agua    4000         0\n",
            "8          Gaseosa    2500         0\n",
            "9            Total   18000         0\n",
            "¿Hay mas clientes? Si o No: No\n",
            "\n",
            "Ganancias del día\n",
            "          Productos  Precio  Cantidad\n",
            "0          Combo 1   20000         0\n",
            "1          Combo 2   25000         6\n",
            "2          Combo 3   18000         0\n",
            "3          Combo 4   24500         0\n",
            "4            Papas    3000         6\n",
            "5  Jugos naturales    7000         0\n",
            "6          Cerveza    3500         8\n",
            "7             Agua    4000         0\n",
            "8          Gaseosa    2500         0\n",
            "9            Total  196000         0\n"
          ]
        }
      ],
      "source": [
        "import pandas as pd\n",
        "inv={\"Productos\":[\"Combo 1\",\"Combo 2\",\"Combo 3\",\"Combo 4\",\"Papas\",\"Jugos naturales\",\"Cerveza\",\"Agua\",\"Gaseosa\"],\"Precio\":[20000,25000,18000,24500,3000,7000,3500,4000,2500]}\n",
        "gan={\"Productos\":[\"Combo 1\",\"Combo 2\",\"Combo 3\",\"Combo 4\",\"Papas\",\"Jugos naturales\",\"Cerveza\",\"Agua\",\"Gaseosa\",\"Total\"],\"Precio\":[20000,25000,18000,24500,3000,7000,3500,4000,2500,0],\"Cantidad\":[0,0,0,0,0,0,0,0,0,0]}\n",
        "fact={\"Productos\":[\"Combo 1\",\"Combo 2\",\"Combo 3\",\"Combo 4\",\"Papas\",\"Jugos naturales\",\"Cerveza\",\"Agua\",\"Gaseosa\",\"Total\"],\"Precio\":[20000,25000,18000,24500,3000,7000,3500,4000,2500,0],\"Cantidad\":[0,0,0,0,0,0,0,0,0,0]}\n",
        "dia=\"si\"\n",
        "cliente=\"si\"\n",
        "while dia==\"si\":\n",
        "  while cliente==\"si\":\n",
        "   print(\"\\n\",pd.DataFrame.from_dict(inv))\n",
        "   o=input(\"\\nEscriba lo que quiere ordenar: \")\n",
        "   i=int(input(\"¿Que cantidad?: \"))\n",
        "   a=inv[\"Productos\"].index(o)\n",
        "   fact[\"Cantidad\"][a]=i\n",
        "   fact[\"Precio\"][9]=fact[\"Precio\"][9]+inv[\"Precio\"][a]*i\n",
        "   cliente=input(\"¿Desea ordenar algo mas? Si o No: \")\n",
        "   cliente=cliente.lower\n",
        "  print(\"Factura\\n\",pd.DataFrame.from_dict(fact))\n",
        "  dia=str(input(\"\\n¿Hay mas clientes? Si o No: \"))\n",
        "  dia=dia.lower()\n",
        "  if dia==\"si\":\n",
        "   cliente=\"si\"\n",
        "  gan[\"Precio\"][9]=gan[\"Precio\"][9]+fact[\"Precio\"][9]\n",
        "  fact[\"Precio\"][9]=0\n",
        "  for z in range(0,10):\n",
        "   gan[\"Cantidad\"][z]=gan[\"Cantidad\"][z]+fact[\"Cantidad\"][z]\n",
        "   fact[\"Cantidad\"][z]=0\n",
        "print(\"\\nGanancias del día\\n\",pd.DataFrame.from_dict(gan))\n",
        "\n",
        "  \n",
        " \n",
        "\n",
        "\n",
        "   "
      ]
    },
    {
      "cell_type": "code",
      "source": [
        "dia=str(input(\"¿Hay mas clientes? Si o No: \"))\n",
        "dia=dia.lower()\n",
        "dia"
      ],
      "metadata": {
        "colab": {
          "base_uri": "https://localhost:8080/",
          "height": 53
        },
        "id": "YSHOZc2gPbDI",
        "outputId": "445412a7-0aa7-4556-9d69-88ff277db6a4"
      },
      "execution_count": 67,
      "outputs": [
        {
          "name": "stdout",
          "output_type": "stream",
          "text": [
            "¿Hay mas clientes? Si o No: SI\n"
          ]
        },
        {
          "output_type": "execute_result",
          "data": {
            "text/plain": [
              "'si'"
            ],
            "application/vnd.google.colaboratory.intrinsic+json": {
              "type": "string"
            }
          },
          "metadata": {},
          "execution_count": 67
        }
      ]
    }
  ]
}