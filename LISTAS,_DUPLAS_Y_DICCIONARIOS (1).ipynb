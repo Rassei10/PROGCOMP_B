{
  "nbformat": 4,
  "nbformat_minor": 0,
  "metadata": {
    "colab": {
      "provenance": []
    },
    "kernelspec": {
      "name": "python3",
      "display_name": "Python 3"
    },
    "language_info": {
      "name": "python"
    }
  },
  "cells": [
    {
      "cell_type": "markdown",
      "source": [
        "#SECUENCIA DE DATOS\n"
      ],
      "metadata": {
        "id": "SHcbrJhhNGOk"
      }
    },
    {
      "cell_type": "markdown",
      "source": [
        "##LISTAS\n",
        "También conocidas como vectores o arrays.\n",
        "Es una variable que, en lugar de contener un valor, contiene una secuencia ordenada de estos, a los que se puede acceder por su posición o por su índice.\n",
        "Se declaran indicando sus elementos, separados por comas, entre corchetes []"
      ],
      "metadata": {
        "id": "325LVBzsM0x7"
      }
    },
    {
      "cell_type": "code",
      "execution_count": 17,
      "metadata": {
        "colab": {
          "base_uri": "https://localhost:8080/"
        },
        "id": "23GjaB68MkIG",
        "outputId": "704391b0-3c96-42ea-f2eb-16ae58a07296"
      },
      "outputs": [
        {
          "output_type": "execute_result",
          "data": {
            "text/plain": [
              "['primero', 'segundo', 'tercero', 'cuarto']"
            ]
          },
          "metadata": {},
          "execution_count": 17
        }
      ],
      "source": [
        "lista=[\"primero\",\"segundo\", \"tercero\", \"cuarto\"]\n",
        "lista"
      ]
    },
    {
      "cell_type": "markdown",
      "source": [
        "###Accediendo a los elementos de la lista"
      ],
      "metadata": {
        "id": "yPn3XFg4PWpt"
      }
    },
    {
      "cell_type": "code",
      "source": [
        "#Accediendo a la lista por posición\n",
        "lista[0]"
      ],
      "metadata": {
        "colab": {
          "base_uri": "https://localhost:8080/",
          "height": 36
        },
        "id": "-63XOgdXOzdR",
        "outputId": "7f06a027-7a82-4010-ecd1-baba488bea01"
      },
      "execution_count": null,
      "outputs": [
        {
          "output_type": "execute_result",
          "data": {
            "text/plain": [
              "'primero'"
            ],
            "application/vnd.google.colaboratory.intrinsic+json": {
              "type": "string"
            }
          },
          "metadata": {},
          "execution_count": 2
        }
      ]
    },
    {
      "cell_type": "code",
      "source": [
        "#Accediendo a todos los elementos de la lista empleando el slicing\n",
        "lista[:]"
      ],
      "metadata": {
        "colab": {
          "base_uri": "https://localhost:8080/"
        },
        "id": "cadWYF2xSW8L",
        "outputId": "1f0eb661-290a-467c-e251-f111393db281"
      },
      "execution_count": null,
      "outputs": [
        {
          "output_type": "execute_result",
          "data": {
            "text/plain": [
              "['primero', 'segundo', 'tercero', 'cuarto']"
            ]
          },
          "metadata": {},
          "execution_count": 4
        }
      ]
    },
    {
      "cell_type": "code",
      "source": [
        "#Accediendo a los dos primeros elementos de la lista\n",
        "lista[0:2]"
      ],
      "metadata": {
        "colab": {
          "base_uri": "https://localhost:8080/"
        },
        "id": "XsDQpQKISYiL",
        "outputId": "1a144327-f381-43b2-9303-5ab82cd8aa22"
      },
      "execution_count": null,
      "outputs": [
        {
          "output_type": "execute_result",
          "data": {
            "text/plain": [
              "['primero', 'segundo']"
            ]
          },
          "metadata": {},
          "execution_count": 5
        }
      ]
    },
    {
      "cell_type": "code",
      "source": [
        "#Existe alguna otra manera de imprimir los dos primeros elementos de la lista? Coloque la línea de código que hace esto.\n",
        "lista[-4:-2]\n",
        "print(lista[0:2])"
      ],
      "metadata": {
        "id": "miawsux8S7BD",
        "colab": {
          "base_uri": "https://localhost:8080/"
        },
        "outputId": "dfdd9e47-2063-4a14-dbf9-7cc8c1937514"
      },
      "execution_count": 29,
      "outputs": [
        {
          "output_type": "stream",
          "name": "stdout",
          "text": [
            "['primero', 'segundo']\n"
          ]
        }
      ]
    },
    {
      "cell_type": "code",
      "source": [
        "#Accediendo a los dos últimos elementos de la lista\n",
        "lista[2:4]"
      ],
      "metadata": {
        "colab": {
          "base_uri": "https://localhost:8080/"
        },
        "id": "RNcXanPzTB7u",
        "outputId": "bdc54a73-bf98-4ddf-aec7-65e04e9e9a4b"
      },
      "execution_count": null,
      "outputs": [
        {
          "output_type": "execute_result",
          "data": {
            "text/plain": [
              "['tercero', 'cuarto']"
            ]
          },
          "metadata": {},
          "execution_count": 9
        }
      ]
    },
    {
      "cell_type": "code",
      "source": [
        "#Qué pasará cuando se usa un índice negativo? Ejemplo: lista[-4], lista[-3]\n",
        "##Se cuenta las posiciones de atras para adelante"
      ],
      "metadata": {
        "id": "_0cx4i7CVF_6"
      },
      "execution_count": null,
      "outputs": []
    },
    {
      "cell_type": "code",
      "source": [
        "#Existe otra forma para acceder a los dos últimos elementos de la lista?. Coloque la línea de código que hace esto.\n",
        "print(lista[-2],\" \",lista[-1])"
      ],
      "metadata": {
        "id": "Eg2ZIr5DTnFJ",
        "colab": {
          "base_uri": "https://localhost:8080/"
        },
        "outputId": "8a6903f9-e64b-47ba-8413-d3738a0824e4"
      },
      "execution_count": 18,
      "outputs": [
        {
          "output_type": "stream",
          "name": "stdout",
          "text": [
            "tercero   cuarto\n"
          ]
        }
      ]
    },
    {
      "cell_type": "code",
      "source": [
        "#Cómo podría saberse la posición de la lista que ocupa un elemento? \n",
        "#Escriba el código que permita ingresar un elemento de la lista, e imprima la posición del elemento de la lista\n",
        "a=input(\"Ingrese el elemento: \")\n",
        "b=lista.index(a)\n",
        "print(\"Esta en la pocisión\",b)\n",
        "\n",
        "\n",
        "\n"
      ],
      "metadata": {
        "id": "AFYUJpJCQG9p",
        "colab": {
          "base_uri": "https://localhost:8080/"
        },
        "outputId": "486aa5bc-8589-4c5e-e386-eb69b83e46be"
      },
      "execution_count": 33,
      "outputs": [
        {
          "output_type": "stream",
          "name": "stdout",
          "text": [
            "Ingrese el elemento: tercero\n",
            "Esta en la pocisión 2\n"
          ]
        }
      ]
    },
    {
      "cell_type": "code",
      "source": [
        "lista=[\"primero\",\"segundo\", \"tercero\", \"cuarto\"]\n",
        "print(lista[-2],\" \",lista[-1])"
      ],
      "metadata": {
        "colab": {
          "base_uri": "https://localhost:8080/"
        },
        "id": "cWh55-5iSt5t",
        "outputId": "d57a4201-64b6-4e76-d4cb-9931f4d52e0d"
      },
      "execution_count": 16,
      "outputs": [
        {
          "output_type": "stream",
          "name": "stdout",
          "text": [
            "tercero   cuarto\n"
          ]
        }
      ]
    },
    {
      "cell_type": "markdown",
      "source": [
        "###Operaciones con las listas"
      ],
      "metadata": {
        "id": "OPiv0fe4R8__"
      }
    },
    {
      "cell_type": "code",
      "source": [
        "#Crear una lista vacía\n",
        "ejemplo=[]"
      ],
      "metadata": {
        "id": "sgr461D-SAqe"
      },
      "execution_count": null,
      "outputs": []
    },
    {
      "cell_type": "code",
      "source": [
        "#Cómo se podría crear una matriz? Ingrese el código que permita generar una matriz 3x2, siendo la primera fila \"Nombre\", \"Peso\", \"Altura\"\n",
        "#y diligencie la segunda fila con números\n",
        "#Llame a esa matriz calculo_IMC\n",
        "#Debe imprimir \n",
        "#Nombre  Peso[kg] Altura[m]\n",
        "#\"Sofía\"    57      1.65 \n",
        "calculo_IMC=[[\"Nombre\",\"Peso[kg]\",\"Altura[m]\"],\n",
        "             ['\"Sofía\"',\"57\",\"1.65\"]]\n",
        "for a in range(0,3):\n",
        " print(calculo_IMC[0][a],end=\"  \")\n",
        "print(\"\\n\")\n",
        "for a in range(0,3):\n",
        "  print(calculo_IMC[1][a],end=\"     \")"
      ],
      "metadata": {
        "id": "NnNEsFRbaUul",
        "colab": {
          "base_uri": "https://localhost:8080/"
        },
        "outputId": "3029140d-ce0a-4ccd-d518-ab092219932b"
      },
      "execution_count": 57,
      "outputs": [
        {
          "output_type": "stream",
          "name": "stdout",
          "text": [
            "Nombre  Peso[kg]  Altura[m]  \n",
            "\n",
            "\"Sofía\"     57     1.65     "
          ]
        }
      ]
    },
    {
      "cell_type": "code",
      "source": [
        "#Genere una cuarta columna para la matriz IMC, que tenga como nombre IMC y calcule el índice de masa corporal. Esto es:\n",
        "#Nombre  Peso[kg] Altura[m]  IMC\n",
        "#\"Sofía\"    57      1.65     (agrege aquí el resultado del cálculo)\n",
        "calculo_IMC=[[\"Nombre\",\"Peso[kg]\",\"Altura[m]\",\"IMC\"],\n",
        "             ['\"Sofía\"',57,1.65,\"Resultado\"]]\n",
        "b=(calculo_IMC[1][1])/((calculo_IMC[1][2])**2)\n",
        "calculo_IMC[1][3]=b\n",
        "calculo_IMC[:]"
      ],
      "metadata": {
        "id": "UZ_ueaXJdJsT",
        "colab": {
          "base_uri": "https://localhost:8080/"
        },
        "outputId": "75d73516-c0fc-42df-cbb3-bf3469513a49"
      },
      "execution_count": 65,
      "outputs": [
        {
          "output_type": "execute_result",
          "data": {
            "text/plain": [
              "[['Nombre', 'Peso[kg]', 'Altura[m]', 'IMC'],\n",
              " ['\"Sofía\"', 57, 1.65, 20.936639118457304]]"
            ]
          },
          "metadata": {},
          "execution_count": 65
        }
      ]
    },
    {
      "cell_type": "code",
      "source": [
        "#Genere una quinta columna en la matriz calculo_IMC que emita una descripción obtenida del IMC. Esto es:\n",
        "#Nombre  Peso[kg] Altura[m]  IMC        Descripción\n",
        "#\"Sofía\"    57      1.65     (calculo)  (Dependiendo del IMC debe registrar peso normal, sobrepeso, obesidad tipo I, obesidad tipo II... etc.\n",
        "calculo_IMC=[[\"Nombre\",\"Peso[kg]\",\"Altura[m]\",\"IMC\",\"Descripción\"],\n",
        "             ['\"Sofía\"',57,1.65,\"Resultado\",\"Gordura\"]]\n",
        "b=(calculo_IMC[1][1])/((calculo_IMC[1][2])**2)\n",
        "calculo_IMC[1][3]=b\n",
        "calculo_IMC[1][4]=\"Peso inferior al normal\" if b<18.5 else(\"Normal\" if b<=24.9 else(\"Peso superior al normal\" if b<=29.9 else \"Obesisdad\"))\n",
        "calculo_IMC[:]\n",
        "\n",
        "\n",
        "\n"
      ],
      "metadata": {
        "id": "cgQqg0YJffSH",
        "colab": {
          "base_uri": "https://localhost:8080/"
        },
        "outputId": "511303f2-99b3-4e31-af8b-e27180b51ae9"
      },
      "execution_count": 66,
      "outputs": [
        {
          "output_type": "execute_result",
          "data": {
            "text/plain": [
              "[['Nombre', 'Peso[kg]', 'Altura[m]', 'IMC', 'Descripción'],\n",
              " ['\"Sofía\"', 57, 1.65, 20.936639118457304, 'Normal']]"
            ]
          },
          "metadata": {},
          "execution_count": 66
        }
      ]
    },
    {
      "cell_type": "code",
      "source": [
        "#Conocer el tamaño del vector\n",
        "len(ejemplo)"
      ],
      "metadata": {
        "colab": {
          "base_uri": "https://localhost:8080/"
        },
        "id": "KZ5QnAzbaH_v",
        "outputId": "e6d57ab7-700e-4ffc-f755-3ef715b4922e"
      },
      "execution_count": null,
      "outputs": [
        {
          "output_type": "execute_result",
          "data": {
            "text/plain": [
              "4"
            ]
          },
          "metadata": {},
          "execution_count": 28
        }
      ]
    },
    {
      "cell_type": "code",
      "source": [
        "#Llenar una lista vacía\n",
        "ejemplo.append(\"Hola\")"
      ],
      "metadata": {
        "id": "JsgmYIkuSVFj"
      },
      "execution_count": null,
      "outputs": []
    },
    {
      "cell_type": "code",
      "source": [
        "#Una lista puede tener diferente tipo de datos!!\n",
        "ejemplo=[\"banana\",\"sandía\", 4, 5, False]\n",
        "ejemplo\n",
        "#Qué pasó con el elemento \"Hola\"?"
      ],
      "metadata": {
        "colab": {
          "base_uri": "https://localhost:8080/"
        },
        "id": "q6LTGURtY_RM",
        "outputId": "49b377b6-a0d0-4ecd-8dc7-620c2319f0cd"
      },
      "execution_count": null,
      "outputs": [
        {
          "output_type": "execute_result",
          "data": {
            "text/plain": [
              "['banana', 'sandía', 4, 5, False]"
            ]
          },
          "metadata": {},
          "execution_count": 34
        }
      ]
    },
    {
      "cell_type": "code",
      "source": [
        "#Eliminar un elemento de la lista\n",
        "ejemplo.remove(4)\n",
        "ejemplo"
      ],
      "metadata": {
        "colab": {
          "base_uri": "https://localhost:8080/"
        },
        "id": "p_o0X4fKZw0k",
        "outputId": "845f0f99-44ac-49f9-df9d-b62a4bcb49de"
      },
      "execution_count": null,
      "outputs": [
        {
          "output_type": "execute_result",
          "data": {
            "text/plain": [
              "['banana', 'sandía', 5, False]"
            ]
          },
          "metadata": {},
          "execution_count": 35
        }
      ]
    },
    {
      "cell_type": "code",
      "source": [
        "#Podría explicar el error generado?\n",
        "ejemplo.remove(4)\n",
        "##No puede eliminar un elemento que ya no esta en la lista"
      ],
      "metadata": {
        "colab": {
          "base_uri": "https://localhost:8080/",
          "height": 189
        },
        "id": "ODz7MJvbbh8e",
        "outputId": "f1f850da-cbfa-4c5e-d9fc-8ea1680afed0"
      },
      "execution_count": null,
      "outputs": [
        {
          "output_type": "error",
          "ename": "ValueError",
          "evalue": "ignored",
          "traceback": [
            "\u001b[0;31m---------------------------------------------------------------------------\u001b[0m",
            "\u001b[0;31mValueError\u001b[0m                                Traceback (most recent call last)",
            "\u001b[0;32m<ipython-input-36-cc5e3be70b57>\u001b[0m in \u001b[0;36m<module>\u001b[0;34m\u001b[0m\n\u001b[1;32m      1\u001b[0m \u001b[0;31m#Podría explicar el error generado?\u001b[0m\u001b[0;34m\u001b[0m\u001b[0;34m\u001b[0m\u001b[0;34m\u001b[0m\u001b[0m\n\u001b[0;32m----> 2\u001b[0;31m \u001b[0mejemplo\u001b[0m\u001b[0;34m.\u001b[0m\u001b[0mremove\u001b[0m\u001b[0;34m(\u001b[0m\u001b[0;36m4\u001b[0m\u001b[0;34m)\u001b[0m\u001b[0;34m\u001b[0m\u001b[0;34m\u001b[0m\u001b[0m\n\u001b[0m",
            "\u001b[0;31mValueError\u001b[0m: list.remove(x): x not in list"
          ]
        }
      ]
    },
    {
      "cell_type": "code",
      "source": [
        "#Podría explicar el resultado de este método? \n",
        "del ejemplo[2]\n",
        "ejemplo\n",
        "##Elimina los elemento desde de la posición 2"
      ],
      "metadata": {
        "colab": {
          "base_uri": "https://localhost:8080/"
        },
        "id": "lhRUkQOEcWHu",
        "outputId": "ad0e0b81-cdb8-49ab-b45e-24451b1213d9"
      },
      "execution_count": null,
      "outputs": [
        {
          "output_type": "execute_result",
          "data": {
            "text/plain": [
              "['banana', 'sandía']"
            ]
          },
          "metadata": {},
          "execution_count": 38
        }
      ]
    },
    {
      "cell_type": "markdown",
      "source": [
        "### EJERCICIO PARA ELIMINAR UN QUEST OBLIGATORIO ☝\n",
        "\n",
        "![Texto alternativo](https://cdn.memegenerator.es/imagenes/memes/full/28/50/28507442.jpg)\n",
        "\n",
        "Realiza el ejercicio propuesto de forma correcta antes de que acabe el tiempo, y hazte acreedor@ de eliminar un quest obligatorio ✨"
      ],
      "metadata": {
        "id": "hmS_3bTvgCph"
      }
    },
    {
      "cell_type": "code",
      "source": [
        "# Revise la página https://www.researchgate.net/publication/273298847_Piedra_Papel_Tijera_y_sus_generalizaciones\n",
        "#Programe Piedra, papel, tijera, spock, lagarto, Papa y heavy usando arreglos.\n",
        "import random\n",
        "Name=input(\"Ingrese un nombre: \")\n",
        "opc=[\"\",\"Piedra\",\"Lagarto\",\"Papa\",\"Tijera\",\"Papel\",\"Heavy\",\"Spock\"]\n",
        "a=\"s\"\n",
        "E=0\n",
        "J=0\n",
        "P=0\n",
        "while a[0:1]==\"s\":\n",
        "  j=int(input(\"1.Piedra\\n2.Lagarto\\n3.Papa\\n4.Tijera\\n5.Papel\\n6.Heavy\\n7.Spock\"))\n",
        "  if j>7 or j<1:\n",
        "     j=int(input(\"Esta opción no esta disponible, escoja entre 1 y 5, ¡subnormal!: \"))\n",
        "  pc=random.randint(1,5)\n",
        "  print(f\"La pc jugó {opc[pc]}\\n{Name} jugó {opc[j]}\")\n",
        "  if j==pc:\n",
        "    print(\"Empate\")\n",
        "    E=E+1\n",
        "  elif j==1 or j==2:\n",
        "    if pc==j+1 or pc==j+3 or pc==j+5:\n",
        "     print(f\"{Name} gana\")\n",
        "     J=J+1\n",
        "    else:\n",
        "        print(\"Pc gana\")\n",
        "        P=P+1\n",
        "  elif j==3 or j==4:\n",
        "    if pc==j+1 or pc==j+2 or pc==j-2: \n",
        "      J=J+1 \n",
        "      print(f\"{Name} gana\")\n",
        "    else:\n",
        "        print(\"Pc gana\")\n",
        "        P=P+1\n",
        "  elif j==5:\n",
        "    if pc==j+2 or pc==j+3 or pc==j+1:\n",
        "      J=J+1 \n",
        "      print(f\"{Name} gana\")\n",
        "    else:\n",
        "        print(\"Pc gana\")\n",
        "        P=P+1\n",
        "  elif j==6:\n",
        "    if pc==j+1 or pc==j-4 or pc==j-3:\n",
        "      J=J+1\n",
        "      print(f\"{Name} gana\")\n",
        "    else:\n",
        "        print(\"Pc gana\")\n",
        "        P=P+1\n",
        "  elif j==7:\n",
        "    if pc==j-6 or pc==j-4 or pc==j-3:\n",
        "      J=J+1\n",
        "      print(f\"{Name} gana\")\n",
        "    else:\n",
        "        print(\"Pc gana\")\n",
        "        P=P+1\n",
        "  else:\n",
        "    print(\"Pc gana\")\n",
        "    P=P+1\n",
        "  a=input(\"¿Otra ronda?: \")\n",
        "  a=a.lower()\n",
        "print(f\"RESULTADOS DE {Name}\\nEmpates: {E}\\nDerrotas: {P}\\nVictorias: {J}\")"
      ],
      "metadata": {
        "id": "p0SGwGpNgBaz",
        "colab": {
          "base_uri": "https://localhost:8080/"
        },
        "outputId": "f4a427c4-7ad2-4e35-8a63-b631dda55a42"
      },
      "execution_count": null,
      "outputs": [
        {
          "output_type": "stream",
          "name": "stdout",
          "text": [
            "Ingrese un nombre: Rassei\n",
            "1.Piedra\n",
            "2.Lagarto\n",
            "3.Papa\n",
            "4.Tijera\n",
            "5.Papel\n",
            "6.Heavy\n",
            "7.Spock7\n",
            "La pc jugó Tijera\n",
            "Rassei jugó Spock\n",
            "Rassei gana\n"
          ]
        }
      ]
    }
  ]
}