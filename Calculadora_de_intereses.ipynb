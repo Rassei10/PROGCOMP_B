{
  "cells": [
    {
      "cell_type": "code",
      "execution_count": null,
      "metadata": {
        "colab": {
          "base_uri": "https://localhost:8080/"
        },
        "id": "KkgF6eN8e06G",
        "outputId": "86fa8673-7d48-442a-eba2-80123b107d4e"
      },
      "outputs": [
        {
          "output_type": "stream",
          "name": "stdout",
          "text": [
            "Bienvenido a la calculadora de intereses\n",
            "\n",
            "Podras obtener cualquier valor que desees de una ecuacion basica de intereses\n",
            "\n",
            "Primero escoge que clase de interes deseas usar:\n"
          ]
        }
      ],
      "source": [
        "from math import log\n",
        "print(\"Bienvenido a la calculadora de intereses\\n\")\n",
        "print(\"Podras obtener cualquier valor que desees de una ecuacion basica de intereses\")\n",
        "print(\"\\nPrimero escoge que clase de interes deseas usar:\")\n",
        "o=\"s\"\n",
        "while o[0:1]==\"s\":\n",
        " x=int(input(\"\\n1.Interes simple\\n2.Interes compuesto\\nIngrese su respuesta: \"))\n",
        " while x<1 or x>2:\n",
        "   x=int(input(\"Solo tenemos dos opciones\\n1.Interes simple\\n2.Interes compuesto\"))\n",
        " y=int(input(\"\\nQue valor desea hayar\\n1.Valor final\\n2.Valor inicial\\n3.Tasa de interes\\n4.Intereses\\n5.Tiempo\\nIngrese su respuesta: \"))\n",
        " if y!=1:\n",
        "   VF=float(input(\"Ingrese el valor final: \"))\n",
        " if y!=2:\n",
        "   VI=float(input(\"Ingrese el valor inicial: \"))\n",
        " if y!=3:\n",
        "   i=float(input(\"Ingrese la tasa de interes: \"))\n",
        "   i=i/100\n",
        " if y!=5:\n",
        "   t=float(input(\"Ingrese la cantidad de periodos: \"))\n",
        " if x==1:\n",
        "   if y==1:\n",
        "     VF=VI*(1+(i*t))\n",
        "     VF=round(VF,2)\n",
        "     print(f\"Valor final: {VF}\")\n",
        "   if y==2:\n",
        "     VI=VF/(1+i*t)\n",
        "     VI=round(VI,2)\n",
        "     print(f\"Valor inicial: {VI}\")\n",
        "   if y==3:\n",
        "     i=((VF/VI)-1)/t\n",
        "     i=round(i,4)\n",
        "     i=i*100\n",
        "     print(f\"Tasa de interes: {i}%\")\n",
        "   if y==4:\n",
        "     I=VI*t*i\n",
        "     I=round(I,2)\n",
        "     print(f\"Intereses: {I}\")\n",
        "   if y==5:\n",
        "     t=((VF/VI)-1)/I\n",
        "     t=round(t,2)\n",
        "     print(f\"Número de periodos: {t}\")\n",
        " elif x==2:\n",
        "   if y==1:\n",
        "     VF=VI*((1+i)^t)\n",
        "     VF=round(VF,2)\n",
        "     print(f\"Valor final: {VF}\")\n",
        "   if y==2:\n",
        "     VI=VF/((1+i)^t)\n",
        "     VI=round(VI,2)\n",
        "     print(f\"Valor inicial: {VI}\")\n",
        "   if y==3:\n",
        "     i=((VF/VI)**(1/t))-1\n",
        "     i=round(i,4)\n",
        "     i=i*100\n",
        "     print(f\"Tasa de interes: {i}%\")\n",
        "   if y==4:\n",
        "     I=VF-VI\n",
        "     I=round(I,2)\n",
        "     print(f\"Intereses: {I}\")\n",
        "   if y==5:\n",
        "     t=log((VF/VI),(1+i))\n",
        "     t=round(t,2)\n",
        "     print(f\"Número de periodos: {t}\")\n",
        " o=input(\"¿Desea seguir usando la calculadora de intereses?: \")"
      ]
    }
  ],
  "metadata": {
    "colab": {
      "provenance": []
    },
    "kernelspec": {
      "display_name": "Python 3",
      "name": "python3"
    },
    "language_info": {
      "name": "python"
    }
  },
  "nbformat": 4,
  "nbformat_minor": 0
}